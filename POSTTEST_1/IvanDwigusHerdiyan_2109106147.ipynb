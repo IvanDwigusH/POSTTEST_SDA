{
  "nbformat": 4,
  "nbformat_minor": 0,
  "metadata": {
    "colab": {
      "provenance": []
    },
    "kernelspec": {
      "name": "python3",
      "display_name": "Python 3"
    },
    "language_info": {
      "name": "python"
    }
  },
  "cells": [
    {
      "cell_type": "code",
      "source": [
        "!apt-get install g++ -y"
      ],
      "metadata": {
        "colab": {
          "base_uri": "https://localhost:8080/"
        },
        "id": "i8L1gVhUlKAV",
        "outputId": "011f867b-c59e-40de-e2e2-e8646378ff92"
      },
      "execution_count": 17,
      "outputs": [
        {
          "output_type": "stream",
          "name": "stdout",
          "text": [
            "Reading package lists... Done\n",
            "Building dependency tree... Done\n",
            "Reading state information... Done\n",
            "g++ is already the newest version (4:11.2.0-1ubuntu1).\n",
            "0 upgraded, 0 newly installed, 0 to remove and 35 not upgraded.\n"
          ]
        }
      ]
    },
    {
      "cell_type": "code",
      "execution_count": 18,
      "metadata": {
        "colab": {
          "base_uri": "https://localhost:8080/"
        },
        "id": "R6rW0NNxjKUO",
        "outputId": "ddade503-39fb-4c17-dc03-a66de7ab0e6d"
      },
      "outputs": [
        {
          "output_type": "stream",
          "name": "stdout",
          "text": [
            "Masukkan 3 digit terakhir NIM: 147\n",
            "Mode GANJIL: isi dengan kelipatan 3\n",
            "Array sebelum dibalik: 3 6 9 12 15 18 21 \n",
            "Array sesudah dibalik : 21 18 15 12 9 6 3 \n"
          ]
        }
      ],
      "source": [
        "# ===============================\n",
        "# SOAL 1: Array + Pointer\n",
        "# ===============================\n",
        "code = r'''\n",
        "#include <bits/stdc++.h>\n",
        "using namespace std;\n",
        "\n",
        "void reverseWithPointer(int *arr, int n){\n",
        "    int *l = arr;\n",
        "    int *r = arr + n - 1;\n",
        "    while(l < r){\n",
        "        int tmp = *l;\n",
        "        *l = *r;\n",
        "        *r = tmp;\n",
        "        l++; r--;\n",
        "    }\n",
        "}\n",
        "\n",
        "bool isPrime(int x){\n",
        "    if(x < 2) return false;\n",
        "    if(x % 2 == 0) return x==2;\n",
        "    for(int i=3;i*i<=x;i+=2) if(x%i==0) return false;\n",
        "    return true;\n",
        "}\n",
        "\n",
        "int main(){\n",
        "    int last3;\n",
        "    cout << \"Masukkan 3 digit terakhir NIM: \";\n",
        "    cin >> last3;\n",
        "    bool ganjil = (last3 % 2 == 1);\n",
        "\n",
        "    const int N = 7;\n",
        "    int a[N];\n",
        "    if(ganjil){\n",
        "        for(int i=0;i<N;i++) a[i] = 3*(i+1);\n",
        "        cout << \"Mode GANJIL: isi dengan kelipatan 3\\n\";\n",
        "    } else {\n",
        "        int found = 0, x = 2;\n",
        "        while(found < N){\n",
        "            if(isPrime(x)) a[found++] = x;\n",
        "            x++;\n",
        "        }\n",
        "        cout << \"Mode GENAP: isi dengan bilangan prima\\n\";\n",
        "    }\n",
        "\n",
        "    cout << \"Array sebelum dibalik: \";\n",
        "    for(int i=0;i<N;i++) cout << a[i] << \" \";\n",
        "    cout << endl;\n",
        "\n",
        "    reverseWithPointer(a, N);\n",
        "\n",
        "    cout << \"Array sesudah dibalik : \";\n",
        "    for(int i=0;i<N;i++) cout << a[i] << \" \";\n",
        "    cout << endl;\n",
        "    return 0;\n",
        "}\n",
        "'''\n",
        "with open(\"soal1.cpp\",\"w\") as f: f.write(code)\n",
        "!g++ soal1.cpp -o soal1\n",
        "!./soal1\n"
      ]
    },
    {
      "cell_type": "code",
      "source": [
        "# ===============================\n",
        "# SOAL 2: Array 2D\n",
        "# ===============================\n",
        "code = r'''\n",
        "#include <bits/stdc++.h>\n",
        "using namespace std;\n",
        "\n",
        "int main(){\n",
        "    int last3;\n",
        "    cout << \"Masukkan 3 digit terakhir NIM: \";\n",
        "    cin >> last3;\n",
        "    bool ganjil = (last3 % 2 == 1);\n",
        "\n",
        "    const int R=3,C=3;\n",
        "    int m[R][C];\n",
        "    cout << \"Masukkan elemen matriks 3x3:\\n\";\n",
        "    for(int i=0;i<R;i++)\n",
        "        for(int j=0;j<C;j++)\n",
        "            cin >> m[i][j];\n",
        "\n",
        "    cout << \"\\nMatriks:\\n\";\n",
        "    for(int i=0;i<R;i++){\n",
        "        for(int j=0;j<C;j++) cout << m[i][j] << \"\\t\";\n",
        "        cout << \"\\n\";\n",
        "    }\n",
        "\n",
        "    if(ganjil){\n",
        "        int sumMain=0,sumSec=0;\n",
        "        for(int i=0;i<R;i++){\n",
        "            sumMain+=m[i][i];\n",
        "            sumSec+=m[i][R-1-i];\n",
        "        }\n",
        "        cout << \"Jumlah diagonal utama + sekunder = \" << (sumMain+sumSec) << endl;\n",
        "    } else {\n",
        "        int sum=0;\n",
        "        for(int i=0;i<R;i++){\n",
        "            if((i+1)%2==0){\n",
        "                for(int j=0;j<C;j++) sum+=m[i][j];\n",
        "            }\n",
        "        }\n",
        "        cout << \"Jumlah elemen baris genap saja = \" << sum << endl;\n",
        "    }\n",
        "    return 0;\n",
        "}\n",
        "'''\n",
        "with open(\"soal2.cpp\",\"w\") as f: f.write(code)\n",
        "!g++ soal2.cpp -o soal2\n",
        "!./soal2\n"
      ],
      "metadata": {
        "colab": {
          "base_uri": "https://localhost:8080/"
        },
        "id": "heqhVS2blYh0",
        "outputId": "3fb5e47f-1c3f-4c30-82bc-7c17a90a483f"
      },
      "execution_count": 19,
      "outputs": [
        {
          "output_type": "stream",
          "name": "stdout",
          "text": [
            "Masukkan 3 digit terakhir NIM: 147\n",
            "Masukkan elemen matriks 3x3:\n",
            "1 2 3\n",
            "4 5 6\n",
            "7 8 9\n",
            "\n",
            "Matriks:\n",
            "1\t2\t3\t\n",
            "4\t5\t6\t\n",
            "7\t8\t9\t\n",
            "Jumlah diagonal utama + sekunder = 30\n"
          ]
        }
      ]
    },
    {
      "cell_type": "code",
      "source": [
        "# ===============================\n",
        "# SOAL 3: Struct + Array\n",
        "# ===============================\n",
        "code = r'''\n",
        "#include <bits/stdc++.h>\n",
        "using namespace std;\n",
        "\n",
        "struct Mahasiswa {\n",
        "    string nama;\n",
        "    string nim;\n",
        "    double ipk;\n",
        "};\n",
        "\n",
        "int main(){\n",
        "    int last3;\n",
        "    cout << \"Masukkan 3 digit terakhir NIM: \";\n",
        "    cin >> last3;\n",
        "    bool ganjil = (last3 % 2 == 1);\n",
        "\n",
        "    if(ganjil){\n",
        "    int n=5;\n",
        "    vector<Mahasiswa> v(n);\n",
        "    for(int i=0;i<n;i++){\n",
        "        cout << \"\\nMahasiswa ke-\" << i+1 << endl;\n",
        "        cout << \"Nama: \";\n",
        "        cin >> ws; getline(cin,v[i].nama);\n",
        "\n",
        "        cout << \"NIM : \";\n",
        "        cin >> ws; getline(cin,v[i].nim);\n",
        "\n",
        "        cout << \"IPK : \";\n",
        "        cin >> v[i].ipk;\n",
        "        cin.ignore(numeric_limits<streamsize>::max(), '\\n'); // buang newline sisa\n",
        "    }\n",
        "\n",
        "    int idx=0;\n",
        "    for(int i=1;i<n;i++)\n",
        "        if(v[i].ipk>v[idx].ipk) idx=i;\n",
        "\n",
        "    cout << \"\\nMahasiswa dengan IPK tertinggi:\\n\";\n",
        "    cout << v[idx].nama << \" | \" << v[idx].nim << \" | \" << v[idx].ipk << endl;\n",
        "    }\n",
        "}\n",
        "'''\n",
        "with open(\"soal3.cpp\",\"w\") as f: f.write(code)\n",
        "!g++ soal3.cpp -o soal3\n",
        "!./soal3\n"
      ],
      "metadata": {
        "colab": {
          "base_uri": "https://localhost:8080/"
        },
        "id": "rLKfsLi3odlD",
        "outputId": "3b8ac5a0-90c4-4a86-a7c0-c133c9f328e2"
      },
      "execution_count": 8,
      "outputs": [
        {
          "output_type": "stream",
          "name": "stdout",
          "text": [
            "Masukkan 3 digit terakhir NIM: 148\n"
          ]
        }
      ]
    },
    {
      "cell_type": "code",
      "source": [
        "# ===============================\n",
        "# SOAL 4: Pointer pada Fungsi\n",
        "# ===============================\n",
        "code = r'''\n",
        "#include <bits/stdc++.h>\n",
        "using namespace std;\n",
        "\n",
        "void swap_double_ptr(int **a,int **b){\n",
        "    int tmp=**a;\n",
        "    **a=**b;\n",
        "    **b=tmp;\n",
        "}\n",
        "void swap_reference(int &a,int &b){\n",
        "    int tmp=a;\n",
        "    a=b;\n",
        "    b=tmp;\n",
        "}\n",
        "\n",
        "int main(){\n",
        "    int last3;\n",
        "    cout << \"Masukkan 3 digit terakhir NIM: \";\n",
        "    cin >> last3;\n",
        "    bool ganjil=(last3%2==1);\n",
        "\n",
        "    int x,y;\n",
        "    cout << \"Masukkan x y: \";\n",
        "    cin >> x >> y;\n",
        "    cout << \"Sebelum: x=\"<<x<<\", y=\"<<y<<\"\\n\";\n",
        "\n",
        "    if(ganjil){\n",
        "        int *px=&x,*py=&y;\n",
        "        swap_double_ptr(&px,&py);\n",
        "        cout << \"Mode GANJIL: pakai double pointer\\n\";\n",
        "    } else {\n",
        "        swap_reference(x,y);\n",
        "        cout << \"Mode GENAP: pakai reference\\n\";\n",
        "    }\n",
        "    cout << \"Sesudah: x=\"<<x<<\", y=\"<<y<<\"\\n\";\n",
        "}\n",
        "'''\n",
        "with open(\"soal4.cpp\",\"w\") as f: f.write(code)\n",
        "!g++ soal4.cpp -o soal4\n",
        "!./soal4\n"
      ],
      "metadata": {
        "colab": {
          "base_uri": "https://localhost:8080/"
        },
        "id": "qqM5B8oIpDk7",
        "outputId": "db98390a-b74e-4c7a-e615-a6c27175ce37"
      },
      "execution_count": 9,
      "outputs": [
        {
          "output_type": "stream",
          "name": "stdout",
          "text": [
            "Masukkan 3 digit terakhir NIM: 147\n",
            "Masukkan x y: 2 3\n",
            "Sebelum: x=2, y=3\n",
            "Mode GANJIL: pakai double pointer\n",
            "Sesudah: x=3, y=2\n"
          ]
        }
      ]
    }
  ]
}